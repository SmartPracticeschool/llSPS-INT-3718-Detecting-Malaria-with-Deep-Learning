{
 "cells": [
  {
   "cell_type": "code",
   "execution_count": null,
   "metadata": {
    "colab": {},
    "colab_type": "code",
    "id": "OKHOywRuUCql"
   },
   "outputs": [],
   "source": [
    "# Importing the Keras libraries and packages\n",
    "from keras.models import Sequential\n",
    "from keras.layers import Convolution2D\n",
    "from keras.layers import MaxPooling2D\n",
    "from keras.layers import Flatten\n",
    "from keras.layers import Dense"
   ]
  },
  {
   "cell_type": "code",
   "execution_count": null,
   "metadata": {
    "colab": {},
    "colab_type": "code",
    "id": "0hWtf999UQ6d"
   },
   "outputs": [],
   "source": [
    "#Initializing the CNN\n",
    "classifier = Sequential()"
   ]
  },
  {
   "cell_type": "raw",
   "metadata": {},
   "source": [
    "Adding convolution and pooling layers"
   ]
  },
  {
   "cell_type": "code",
   "execution_count": null,
   "metadata": {
    "colab": {},
    "colab_type": "code",
    "id": "48wz0vFwUQ9u"
   },
   "outputs": [],
   "source": [
    "classifier.add(Convolution2D(32, (3, 3), input_shape = (64,64,3), activation = 'relu'))"
   ]
  },
  {
   "cell_type": "code",
   "execution_count": null,
   "metadata": {
    "colab": {},
    "colab_type": "code",
    "id": "fu-LAHqqURBE"
   },
   "outputs": [],
   "source": [
    "classifier.add(MaxPooling2D(pool_size = (2, 2)))"
   ]
  },
  {
   "cell_type": "code",
   "execution_count": null,
   "metadata": {
    "colab": {},
    "colab_type": "code",
    "id": "S_I5V9lDUREa"
   },
   "outputs": [],
   "source": [
    "classifier.add(Convolution2D(32, (3, 3), activation = 'relu'))\n",
    "classifier.add(MaxPooling2D(pool_size = (2, 2)))"
   ]
  },
  {
   "cell_type": "raw",
   "metadata": {},
   "source": [
    "Flattening the layers"
   ]
  },
  {
   "cell_type": "code",
   "execution_count": null,
   "metadata": {
    "colab": {},
    "colab_type": "code",
    "id": "oNSWolfeUYfe"
   },
   "outputs": [],
   "source": [
    "classifier.add(Flatten())"
   ]
  },
  {
   "cell_type": "code",
   "execution_count": null,
   "metadata": {
    "colab": {},
    "colab_type": "code",
    "id": "PHQUfL8DUaIB"
   },
   "outputs": [],
   "source": [
    "classifier.add(Dense(units = 128, activation = 'relu'))"
   ]
  },
  {
   "cell_type": "raw",
   "metadata": {},
   "source": [
    "Adding output layer"
   ]
  },
  {
   "cell_type": "code",
   "execution_count": null,
   "metadata": {
    "colab": {},
    "colab_type": "code",
    "id": "8mQLtGqaUaK9"
   },
   "outputs": [],
   "source": [
    "classifier.add(Dense(units = 1, activation = 'sigmoid'))"
   ]
  },
  {
   "cell_type": "raw",
   "metadata": {},
   "source": [
    "Compiling the model"
   ]
  },
  {
   "cell_type": "code",
   "execution_count": null,
   "metadata": {
    "colab": {},
    "colab_type": "code",
    "id": "gAOuuvdLUaOI"
   },
   "outputs": [],
   "source": [
    "classifier.compile(optimizer = 'adam', loss = 'binary_crossentropy', metrics = ['accuracy'])"
   ]
  },
  {
   "cell_type": "raw",
   "metadata": {},
   "source": [
    "Importing ImageDataGenerator"
   ]
  },
  {
   "cell_type": "code",
   "execution_count": null,
   "metadata": {
    "colab": {},
    "colab_type": "code",
    "id": "XusNCFL4UaRs"
   },
   "outputs": [],
   "source": [
    "from keras.preprocessing.image import ImageDataGenerator"
   ]
  },
  {
   "cell_type": "code",
   "execution_count": 13,
   "metadata": {
    "colab": {},
    "colab_type": "code",
    "id": "6ILIx5VRWDgD"
   },
   "outputs": [],
   "source": [
    "train_datagen = ImageDataGenerator(\n",
    "        rescale=1./255,\n",
    "        shear_range=0.2,\n",
    "        zoom_range=0.2,\n",
    "        horizontal_flip=True)\n",
    "\n",
    "test_datagen = ImageDataGenerator(rescale=1./255)"
   ]
  },
  {
   "cell_type": "code",
   "execution_count": 14,
   "metadata": {
    "colab": {
     "base_uri": "https://localhost:8080/",
     "height": 34
    },
    "colab_type": "code",
    "id": "qXt6VPhqWDoR",
    "outputId": "e811bcfc-32e7-4834-9d1b-c83634a5edac"
   },
   "outputs": [
    {
     "name": "stdout",
     "output_type": "stream",
     "text": [
      "Found 27558 images belonging to 2 classes.\n"
     ]
    }
   ],
   "source": [
    "training_set = train_datagen.flow_from_directory('dataset/train_set',\n",
    "                                                  target_size=(64, 64),\n",
    "                                                  batch_size=32,\n",
    "                                                  class_mode='binary')"
   ]
  },
  {
   "cell_type": "code",
   "execution_count": 22,
   "metadata": {
    "colab": {
     "base_uri": "https://localhost:8080/",
     "height": 34
    },
    "colab_type": "code",
    "id": "fpZKKPXHZVP9",
    "outputId": "c2049f77-3983-471d-a0d0-dde251ea1554"
   },
   "outputs": [
    {
     "name": "stdout",
     "output_type": "stream",
     "text": [
      "Found 5512 images belonging to 2 classes.\n"
     ]
    }
   ],
   "source": [
    "test_set = test_datagen.flow_from_directory('dataset/test_set',\n",
    "                                            target_size=(64, 64),\n",
    "                                            batch_size=32,\n",
    "                                            class_mode='binary')"
   ]
  },
  {
   "cell_type": "code",
   "execution_count": 23,
   "metadata": {
    "colab": {
     "base_uri": "https://localhost:8080/",
     "height": 996
    },
    "colab_type": "code",
    "id": "QMuRZ24hiDc5",
    "outputId": "56c4f4b7-0da0-4b08-9691-6b4f9e2653a3"
   },
   "outputs": [
    {
     "name": "stdout",
     "output_type": "stream",
     "text": [
      "WARNING:tensorflow:From <ipython-input-23-04610b482e7c>:6: Model.fit_generator (from tensorflow.python.keras.engine.training) is deprecated and will be removed in a future version.\n",
      "Instructions for updating:\n",
      "Please use Model.fit, which supports generators.\n",
      "Epoch 1/25\n",
      "861/861 [==============================] - 174s 202ms/step - loss: 0.4067 - accuracy: 0.8091 - val_loss: 0.2858 - val_accuracy: 0.8881\n",
      "Epoch 2/25\n",
      "861/861 [==============================] - 171s 199ms/step - loss: 0.2185 - accuracy: 0.9201 - val_loss: 0.2178 - val_accuracy: 0.9175\n",
      "Epoch 3/25\n",
      "861/861 [==============================] - 174s 202ms/step - loss: 0.1760 - accuracy: 0.9410 - val_loss: 0.2149 - val_accuracy: 0.9370\n",
      "Epoch 4/25\n",
      "861/861 [==============================] - 171s 199ms/step - loss: 0.1603 - accuracy: 0.9487 - val_loss: 0.1635 - val_accuracy: 0.9449\n",
      "Epoch 5/25\n",
      "861/861 [==============================] - 170s 198ms/step - loss: 0.1499 - accuracy: 0.9505 - val_loss: 0.1640 - val_accuracy: 0.9455\n",
      "Epoch 6/25\n",
      "861/861 [==============================] - 171s 199ms/step - loss: 0.1436 - accuracy: 0.9526 - val_loss: 0.1655 - val_accuracy: 0.9471\n",
      "Epoch 7/25\n",
      "861/861 [==============================] - 173s 201ms/step - loss: 0.1349 - accuracy: 0.9544 - val_loss: 0.1522 - val_accuracy: 0.9486\n",
      "Epoch 8/25\n",
      "861/861 [==============================] - 171s 199ms/step - loss: 0.1330 - accuracy: 0.9555 - val_loss: 0.1521 - val_accuracy: 0.9500\n",
      "Epoch 9/25\n",
      "861/861 [==============================] - 170s 198ms/step - loss: 0.1254 - accuracy: 0.9587 - val_loss: 0.1637 - val_accuracy: 0.9459\n",
      "Epoch 10/25\n",
      "861/861 [==============================] - 172s 200ms/step - loss: 0.1276 - accuracy: 0.9569 - val_loss: 0.1430 - val_accuracy: 0.9499\n",
      "Epoch 11/25\n",
      "861/861 [==============================] - 170s 198ms/step - loss: 0.1213 - accuracy: 0.9590 - val_loss: 0.1474 - val_accuracy: 0.9495\n",
      "Epoch 12/25\n",
      "861/861 [==============================] - 171s 199ms/step - loss: 0.1192 - accuracy: 0.9597 - val_loss: 0.1327 - val_accuracy: 0.9540\n",
      "Epoch 13/25\n",
      "861/861 [==============================] - 171s 198ms/step - loss: 0.1190 - accuracy: 0.9594 - val_loss: 0.1514 - val_accuracy: 0.9471\n",
      "Epoch 14/25\n",
      "861/861 [==============================] - 172s 200ms/step - loss: 0.1151 - accuracy: 0.9604 - val_loss: 0.1405 - val_accuracy: 0.9511\n",
      "Epoch 15/25\n",
      "861/861 [==============================] - 171s 199ms/step - loss: 0.1160 - accuracy: 0.9606 - val_loss: 0.1360 - val_accuracy: 0.9557\n",
      "Epoch 16/25\n",
      "861/861 [==============================] - 171s 198ms/step - loss: 0.1140 - accuracy: 0.9609 - val_loss: 0.1366 - val_accuracy: 0.9524\n",
      "Epoch 17/25\n",
      "861/861 [==============================] - 171s 198ms/step - loss: 0.1119 - accuracy: 0.9613 - val_loss: 0.1314 - val_accuracy: 0.9540\n",
      "Epoch 18/25\n",
      "861/861 [==============================] - 172s 200ms/step - loss: 0.1080 - accuracy: 0.9623 - val_loss: 0.1307 - val_accuracy: 0.9535\n",
      "Epoch 19/25\n",
      "861/861 [==============================] - 171s 198ms/step - loss: 0.1105 - accuracy: 0.9628 - val_loss: 0.1169 - val_accuracy: 0.9571\n",
      "Epoch 20/25\n",
      "861/861 [==============================] - 171s 199ms/step - loss: 0.1058 - accuracy: 0.9624 - val_loss: 0.1228 - val_accuracy: 0.9569\n",
      "Epoch 21/25\n",
      "861/861 [==============================] - 171s 199ms/step - loss: 0.1035 - accuracy: 0.9641 - val_loss: 0.1218 - val_accuracy: 0.9586\n",
      "Epoch 22/25\n",
      "861/861 [==============================] - 170s 197ms/step - loss: 0.1035 - accuracy: 0.9649 - val_loss: 0.1272 - val_accuracy: 0.9575\n",
      "Epoch 23/25\n",
      "861/861 [==============================] - 170s 197ms/step - loss: 0.1015 - accuracy: 0.9647 - val_loss: 0.1094 - val_accuracy: 0.9615\n",
      "Epoch 24/25\n",
      "861/861 [==============================] - 169s 196ms/step - loss: 0.1000 - accuracy: 0.9661 - val_loss: 0.1186 - val_accuracy: 0.9606\n",
      "Epoch 25/25\n",
      "861/861 [==============================] - 170s 197ms/step - loss: 0.0985 - accuracy: 0.9656 - val_loss: 0.1131 - val_accuracy: 0.9586\n"
     ]
    },
    {
     "data": {
      "text/plain": [
       "<tensorflow.python.keras.callbacks.History at 0x7f76c01815f8>"
      ]
     },
     "execution_count": 23,
     "metadata": {
      "tags": []
     },
     "output_type": "execute_result"
    }
   ],
   "source": [
    "classifier.fit_generator(\n",
    "        training_set,\n",
    "        steps_per_epoch=27558//32,\n",
    "        epochs = 25,\n",
    "        validation_data=test_set,\n",
    "        validation_steps = 5512//32)"
   ]
  },
  {
   "cell_type": "raw",
   "metadata": {},
   "source": [
    "Saving the model"
   ]
  },
  {
   "cell_type": "code",
   "execution_count": 24,
   "metadata": {
    "colab": {},
    "colab_type": "code",
    "id": "7lifLOZJiDgW"
   },
   "outputs": [],
   "source": [
    "classifier.save('testmodel1.h5')"
   ]
  },
  {
   "cell_type": "raw",
   "metadata": {},
   "source": [
    "Predicting output for a test image"
   ]
  },
  {
   "cell_type": "code",
   "execution_count": 30,
   "metadata": {
    "colab": {},
    "colab_type": "code",
    "id": "wavH7ixpiDtH"
   },
   "outputs": [],
   "source": [
    "import numpy as np\n",
    "from keras.preprocessing import image"
   ]
  },
  {
   "cell_type": "code",
   "execution_count": 31,
   "metadata": {
    "colab": {},
    "colab_type": "code",
    "id": "LTUHntHBu8nW"
   },
   "outputs": [],
   "source": [
    "test_img = image.load_img('test_set/Parasitized/C33P1thinF_IMG_20150619_114756a_cell_179.png', target_size = (64,64))"
   ]
  },
  {
   "cell_type": "code",
   "execution_count": 32,
   "metadata": {
    "colab": {},
    "colab_type": "code",
    "id": "XyRnaXXZu8s2"
   },
   "outputs": [],
   "source": [
    "test_img = image.img_to_array(test_img)"
   ]
  },
  {
   "cell_type": "code",
   "execution_count": 33,
   "metadata": {
    "colab": {},
    "colab_type": "code",
    "id": "DEmUPJHyvCla"
   },
   "outputs": [],
   "source": [
    "test_img = np.expand_dims(test_img, axis=0)"
   ]
  },
  {
   "cell_type": "code",
   "execution_count": 34,
   "metadata": {
    "colab": {},
    "colab_type": "code",
    "id": "JFZ2liTlvCor"
   },
   "outputs": [],
   "source": [
    "result = classifier.predict(test_img)"
   ]
  },
  {
   "cell_type": "code",
   "execution_count": 35,
   "metadata": {
    "colab": {
     "base_uri": "https://localhost:8080/",
     "height": 34
    },
    "colab_type": "code",
    "id": "UEmUKdO8vCsT",
    "outputId": "41396952-6025-4e90-9400-9d1902656e94"
   },
   "outputs": [
    {
     "data": {
      "text/plain": [
       "{'Parasitized': 0, 'Uninfected': 1}"
      ]
     },
     "execution_count": 35,
     "metadata": {
      "tags": []
     },
     "output_type": "execute_result"
    }
   ],
   "source": [
    "training_set.class_indices"
   ]
  },
  {
   "cell_type": "code",
   "execution_count": 36,
   "metadata": {
    "colab": {
     "base_uri": "https://localhost:8080/",
     "height": 34
    },
    "colab_type": "code",
    "id": "ivvGvrqrEUn-",
    "outputId": "eaa36f96-367f-47c9-a5c7-6e5a45ccfe73"
   },
   "outputs": [
    {
     "name": "stdout",
     "output_type": "stream",
     "text": [
      "[[0.]]\n"
     ]
    }
   ],
   "source": [
    "print(result)"
   ]
  },
  {
   "cell_type": "code",
   "execution_count": 37,
   "metadata": {
    "colab": {},
    "colab_type": "code",
    "id": "c1hyKIOQvCyK"
   },
   "outputs": [],
   "source": [
    "if result[0][0] == 0:\n",
    "  prediction = 'Parasitized'\n",
    "else:\n",
    "  prediction = 'Uninfected'\n"
   ]
  },
  {
   "cell_type": "code",
   "execution_count": 38,
   "metadata": {
    "colab": {
     "base_uri": "https://localhost:8080/",
     "height": 35
    },
    "colab_type": "code",
    "id": "n5oAy4sEvCwO",
    "outputId": "523b13ec-d220-41c6-eb0e-e7efc616dd21"
   },
   "outputs": [
    {
     "data": {
      "application/vnd.google.colaboratory.intrinsic+json": {
       "type": "string"
      },
      "text/plain": [
       "'Parasitized'"
      ]
     },
     "execution_count": 38,
     "metadata": {
      "tags": []
     },
     "output_type": "execute_result"
    }
   ],
   "source": [
    "prediction"
   ]
  },
  {
   "cell_type": "raw",
   "metadata": {},
   "source": [
    "Model Evaluation"
   ]
  },
  {
   "cell_type": "code",
   "execution_count": 28,
   "metadata": {
    "colab": {},
    "colab_type": "code",
    "id": "-Hele6AZmB2o"
   },
   "outputs": [],
   "source": [
    "import matplotlib.pyplot as plt\n",
    "import numpy as np"
   ]
  },
  {
   "cell_type": "code",
   "execution_count": 29,
   "metadata": {
    "colab": {
     "base_uri": "https://localhost:8080/",
     "height": 307
    },
    "colab_type": "code",
    "id": "EQbXCbGwwIWI",
    "outputId": "572b23b5-87fc-41f9-a93a-dd5dab9d3ee4"
   },
   "outputs": [
    {
     "data": {
      "image/png": "[encoded data removed]",
      "text/plain": [
       "<Figure size 864x288 with 2 Axes>"
      ]
     },
     "metadata": {
      "needs_background": "light",
      "tags": []
     },
     "output_type": "display_data"
    }
   ],
   "source": [
    "f, (ax1, ax2) = plt.subplots(1, 2, figsize=(12, 4))\n",
    "t = f.suptitle('Basic CNN Performance', fontsize=12)\n",
    "f.subplots_adjust(top=0.85, wspace=0.3)\n",
    "\n",
    "max_epoch = len(classifier.history.history['accuracy'])+1\n",
    "epoch_list = list(range(1,max_epoch))\n",
    "ax1.plot(epoch_list, classifier.history.history['accuracy'], label='Train Accuracy')\n",
    "ax1.plot(epoch_list, classifier.history.history['val_accuracy'], label='Validation Accuracy')\n",
    "ax1.set_xticks(np.arange(1, max_epoch, 5))\n",
    "ax1.set_ylabel('Accuracy Value')\n",
    "ax1.set_xlabel('Epoch')\n",
    "ax1.set_title('Accuracy')\n",
    "l1 = ax1.legend(loc=\"best\")\n",
    "\n",
    "ax2.plot(epoch_list, classifier.history.history['loss'], label='Train Loss')\n",
    "ax2.plot(epoch_list, classifier.history.history['val_loss'], label='Validation Loss')\n",
    "ax2.set_xticks(np.arange(1, max_epoch, 5))\n",
    "ax2.set_ylabel('Loss Value')\n",
    "ax2.set_xlabel('Epoch')\n",
    "ax2.set_title('Loss')\n",
    "l2 = ax2.legend(loc=\"best\")"
   ]
  }
 ],
 "metadata": {
  "colab": {
   "collapsed_sections": [],
   "name": "Malaria Prediction.ipynb",
   "provenance": []
  },
  "kernelspec": {
   "display_name": "Python 3",
   "language": "python",
   "name": "python3"
  },
  "language_info": {
   "codemirror_mode": {
    "name": "ipython",
    "version": 3
   },
   "file_extension": ".py",
   "mimetype": "text/x-python",
   "name": "python",
   "nbconvert_exporter": "python",
   "pygments_lexer": "ipython3",
   "version": "3.7.4"
  }
 },
 "nbformat": 4,
 "nbformat_minor": 1
}
